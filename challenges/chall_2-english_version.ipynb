{
 "cells": [
  {
   "cell_type": "code",
   "execution_count": 1,
   "id": "e8eaea66ebe827d9",
   "metadata": {
    "collapsed": false,
    "jupyter": {
     "outputs_hidden": false
    }
   },
   "outputs": [],
   "source": [
    "from fl.preprocessing import load_mnist, data_to_client\n",
    "from fl.model import NN\n",
    "from fl.utils import plot_train_and_test, weights_to_json\n",
    "from fl.federated_learning import federated"
   ]
  },
  {
   "cell_type": "markdown",
   "id": "4c73d758496df2d5",
   "metadata": {
    "collapsed": false,
    "jupyter": {
     "outputs_hidden": false
    }
   },
   "source": [
    "# Challenge 2 : Poison [2/2]\n",
    "\n",
    "![du_poison_2.jpg](https://i.imgflip.com/8nfix9.jpg)\n",
    "\n",
    "## A Defense?\n",
    "This time, a defense mechanism has been implemented. It aims to prevent any single client from having too much influence by enforcing a maximum variation on the weights. But *is that enough?*"
   ]
  },
  {
   "cell_type": "markdown",
   "id": "1cf474a928ebb616",
   "metadata": {
    "collapsed": false,
    "jupyter": {
     "outputs_hidden": false
    }
   },
   "source": [
    "## Flag Retrieval\n",
    "\n",
    "Just like in the first challenge, you need to send your weights to the API."
   ]
  },
  {
   "cell_type": "code",
   "execution_count": 2,
   "id": "d67c8b3d63b849b0",
   "metadata": {
    "collapsed": false,
    "jupyter": {
     "outputs_hidden": false
    }
   },
   "outputs": [],
   "source": [
    "model = ...\n",
    "raise NotImplementedError"
   ]
  },
  {
   "cell_type": "code",
   "execution_count": 3,
   "id": "939d028dabb70e23",
   "metadata": {
    "collapsed": false,
    "jupyter": {
     "outputs_hidden": false
    }
   },
   "outputs": [],
   "source": [
    "import requests as rq\n",
    "\n",
    "URL = \"https://du-poison.challenges.404ctf.fr\"\n",
    "rq.get(URL + \"/healthcheck\").json()"
   ]
  },
  {
   "cell_type": "code",
   "execution_count": 4,
   "id": "36f41e01e352a919",
   "metadata": {
    "collapsed": false,
    "jupyter": {
     "outputs_hidden": false
    }
   },
   "outputs": [],
   "source": [
    "d = weights_to_json(model.get_weights())\n",
    "rq.post(URL + \"/challenges/2\", json=d).json()"
   ]
  }
 ],
 "metadata": {
  "kernelspec": {
   "display_name": "Python 3 (ipykernel)",
   "language": "python",
   "name": "python3"
  },
  "language_info": {
   "codemirror_mode": {
    "name": "ipython",
    "version": 3
   },
   "file_extension": ".py",
   "mimetype": "text/x-python",
   "name": "python",
   "nbconvert_exporter": "python",
   "pygments_lexer": "ipython3",
   "version": "3.12.5"
  }
 },
 "nbformat": 4,
 "nbformat_minor": 5
}
